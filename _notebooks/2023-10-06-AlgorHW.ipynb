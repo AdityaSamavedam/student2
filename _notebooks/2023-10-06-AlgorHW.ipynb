{
 "cells": [
  {
   "cell_type": "markdown",
   "metadata": {},
   "source": [
    "---\n",
    "toc: true\n",
    "comments: true\n",
    "layout: post\n",
    "title: Algorithms HW\n",
    "description: Team SRSC \n",
    "type: tangibles\n",
    "courses: { compsci: {week: 7} }\n",
    "---"
   ]
  },
  {
   "cell_type": "markdown",
   "metadata": {},
   "source": [
    "# <mark> HOMEWORK \n",
    "## CREATE TEXT (string) ANALYZER: <br>\n",
    "### criteria: <br>\n",
    "1. Accepts input from user <br>\n",
    "2. Counts total letters, numbers, spaces in a string <br>\n",
    "3. Counts number of vowels <br>\n",
    "4. Calculates average word length <br>\n",
    "5. Correctly displays: total # of characters (including spaces + numbers), total vowels, average word length <br>\n",
    "### other criteria: <br>\n",
    "1. ensure that program handles upper and lowercase spelling <br>\n",
    "2. Test multiple inputs to ensure accuracy \n",
    "### Criteria for above 90%: <br>\n",
    "1. Add a unique program, function, or feature not specified by criterias"
   ]
  },
  {
   "cell_type": "code",
   "execution_count": 21,
   "metadata": {},
   "outputs": [
    {
     "name": "stdout",
     "output_type": "stream",
     "text": [
      "The sentence entered was Hello my name is Aditya and I am 15 years old!\n",
      "There are 33 letters in the sentence.\n",
      "There are 2 numbers in the sentence.\n",
      "There are 14 vowels in the sentence.\n",
      "There are 10 spaces in the sentence.\n",
      "There are 11 words in the sentence.\n",
      "There are 60 characters in total in the sentence.\n",
      "The average word length is: 3.27\n"
     ]
    }
   ],
   "source": [
    "def analyze_text():\n",
    "    input_string = input(\"Enter your sentence: \")\n",
    "    letter_count = 0\n",
    "    number_count = 0\n",
    "    space_count = 0\n",
    "    vowel_count = 0\n",
    "    word_count = 0\n",
    "    total_characters = 0\n",
    "    for i in input_string:\n",
    "        if i in \"abcdefghijklmnopqrstuvwxyzABCDEFGHIJKLMNOPQRSTUVWXYZ\":\n",
    "            letter_count += 1\n",
    "            total_characters += 1\n",
    "            if i in \"aAeEiIoOuU\":\n",
    "                vowel_count += 1\n",
    "                total_characters += 1\n",
    "        elif i in \"1234567890\":\n",
    "            number_count += 1\n",
    "            total_characters += 1\n",
    "        elif i == \" \":\n",
    "            space_count += 1\n",
    "            total_characters += 1\n",
    "        else:\n",
    "            total_characters += 1\n",
    "            \n",
    "    sentence_words = input_string.split()\n",
    "    word_count = len(sentence_words)\n",
    "    \n",
    "    word_count = len(sentence_words)\n",
    "    total_word_length = 0\n",
    "    for word in sentence_words:\n",
    "        word_length = len(word)\n",
    "        total_word_length += word_length\n",
    "    average_word_length = total_word_length/word_count\n",
    "        \n",
    "    print(f\"The sentence entered was {input_string}\")\n",
    "    print(f\"There are {letter_count} letters in the sentence.\")\n",
    "    print(f\"There are {number_count} numbers in the sentence.\")\n",
    "    print(f\"There are {vowel_count} vowels in the sentence.\")\n",
    "    print(f\"There are {space_count} spaces in the sentence.\")\n",
    "    print(f\"There are {word_count} words in the sentence.\")\n",
    "    print(f\"There are {total_characters} characters in total in the sentence.\")\n",
    "    print(f\"The average word length is: {average_word_length:.2f}\")\n",
    "\n",
    "analyze_text()"
   ]
  }
 ],
 "metadata": {
  "kernelspec": {
   "display_name": "Python 3 (ipykernel)",
   "language": "python",
   "name": "python3"
  },
  "language_info": {
   "codemirror_mode": {
    "name": "ipython",
    "version": 3
   },
   "file_extension": ".py",
   "mimetype": "text/x-python",
   "name": "python",
   "nbconvert_exporter": "python",
   "pygments_lexer": "ipython3",
   "version": "3.10.12"
  }
 },
 "nbformat": 4,
 "nbformat_minor": 2
}
