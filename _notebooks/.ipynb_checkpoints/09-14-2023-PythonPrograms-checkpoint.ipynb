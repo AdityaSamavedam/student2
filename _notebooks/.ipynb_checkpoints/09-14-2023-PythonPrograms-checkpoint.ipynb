{
 "cells": [
  {
   "cell_type": "markdown",
   "metadata": {},
   "source": [
    "---\n",
    "# this is YAML front matter\n",
    "toc: true\n",
    "comments: true\n",
    "layout: post\n",
    "title: Python Programs\n",
    "description: My Python Programs for the Team test 1.1 - 1.4\n",
    "courses: { compsci: {week: 4} }\n",
    "type: tangibles\n",
    "---"
   ]
  },
  {
   "cell_type": "markdown",
   "metadata": {},
   "source": [
    "### Program with Output"
   ]
  },
  {
   "cell_type": "code",
   "execution_count": 2,
   "metadata": {
    "vscode": {
     "languageId": "plaintext"
    }
   },
   "outputs": [
    {
     "name": "stdout",
     "output_type": "stream",
     "text": [
      "This is a print statement with double quotes.\n",
      "This is a print statement with single quotes.\n",
      "These sentences are\n",
      "on separate lines.\n",
      "This print statement\n",
      "prints the output the same way\n",
      "as it was specified.\n"
     ]
    }
   ],
   "source": [
    "print(\"This is a print statement with double quotes.\")\n",
    "\n",
    "print('This is a print statement with single quotes.')\n",
    "\n",
    "print(\"These sentences are\\non separate lines.\")\n",
    "print('''This print statement\n",
    "prints the output the same way\n",
    "as it was specified.''')\n",
    "\n",
    "greeting = \"hello\"\n",
    "print(f\"This is an f-string: {greeting} world!\")"
   ]
  },
  {
   "cell_type": "markdown",
   "metadata": {},
   "source": [
    "### Program with Input and Output"
   ]
  },
  {
   "cell_type": "code",
   "execution_count": 1,
   "metadata": {},
   "outputs": [
    {
     "name": "stdout",
     "output_type": "stream",
     "text": [
      "Hello! Please enter your name: Aditya\n",
      "Hello! Please enter your name: Aditya\n",
      "The name you entered is: Aditya\n",
      "Hello! Please enter your age: 15\n",
      "The age you entered is: 15\n",
      "Hello! Please enter your GPA: 4.0\n",
      "The GPA you entered is: 4.0\n"
     ]
    }
   ],
   "source": [
    "# This is a basic input\n",
    "input(\"Hello! Please enter your name: \")\n",
    "\n",
    "\n",
    "# This is an input stored in a variable, which can later be printed.\n",
    "name = input(\"Hello! Please enter your name: \")\n",
    "print(\"The name you entered is:\",name)\n",
    "\n",
    "\n",
    "# This is an input which takes an integer\n",
    "age = int(input(\"Hello! Please enter your age: \"))\n",
    "print(\"The age you entered is:\",age)\n",
    "\n",
    "\n",
    "# This is an input which takes a float\n",
    "gpa = float(input(\"Hello! Please enter your GPA: \"))\n",
    "print(\"The GPA you entered is:\",gpa)"
   ]
  },
  {
   "cell_type": "markdown",
   "metadata": {},
   "source": [
    "### Program with a List"
   ]
  },
  {
   "cell_type": "code",
   "execution_count": 3,
   "metadata": {},
   "outputs": [
    {
     "name": "stdout",
     "output_type": "stream",
     "text": [
      "James\n",
      "['Jack', 'James']\n",
      "3\n",
      "['John', 'Jack', 'James', 'Jason', 'Jake', 'Jeremy']\n",
      "['John', 'Jack', 'Justin', 'James', 'Jason', 'Jake', 'Jeremy']\n",
      "['John', 'Jack', 'Justin', 'James', 'Jake', 'Jeremy']\n",
      "['John', 'Jack', 'Justin', 'Jake', 'Jeremy']\n",
      "['John', 'Justin', 'Jake', 'Jeremy']\n",
      "[]\n"
     ]
    },
    {
     "ename": "NameError",
     "evalue": "name 'my_list' is not defined",
     "output_type": "error",
     "traceback": [
      "\u001b[0;31m---------------------------------------------------------------------------\u001b[0m",
      "\u001b[0;31mNameError\u001b[0m                                 Traceback (most recent call last)",
      "\u001b[0;32m/tmp/ipykernel_1461/1750599656.py\u001b[0m in \u001b[0;36m<module>\u001b[0;34m\u001b[0m\n\u001b[1;32m     37\u001b[0m \u001b[0;31m# delete the list\u001b[0m\u001b[0;34m\u001b[0m\u001b[0;34m\u001b[0m\u001b[0m\n\u001b[1;32m     38\u001b[0m \u001b[0;32mdel\u001b[0m \u001b[0mmy_list\u001b[0m\u001b[0;34m\u001b[0m\u001b[0;34m\u001b[0m\u001b[0m\n\u001b[0;32m---> 39\u001b[0;31m \u001b[0mprint\u001b[0m\u001b[0;34m(\u001b[0m\u001b[0mmy_list\u001b[0m\u001b[0;34m)\u001b[0m\u001b[0;34m\u001b[0m\u001b[0;34m\u001b[0m\u001b[0m\n\u001b[0m",
      "\u001b[0;31mNameError\u001b[0m: name 'my_list' is not defined"
     ]
    }
   ],
   "source": [
    "# create a list of names called my_list\n",
    "my_list = [\"John\", \"Jack\", \"James\", \"Jason\", \"Jake\"]\n",
    "\n",
    "# access an element by index (zero base counting system)\n",
    "print(my_list[2])\n",
    "\n",
    "# access elements by slicing (index 3 will not be included)\n",
    "print(my_list[1:3])\n",
    "\n",
    "# get a specific element's index number\n",
    "print(my_list.index(\"Jason\"))\n",
    "\n",
    "# add an element to the end of a list\n",
    "my_list.append(\"Jeremy\")\n",
    "print(my_list)\n",
    "\n",
    "# add an element at a specific index\n",
    "my_list.insert(2, \"Justin\")\n",
    "print(my_list)\n",
    "\n",
    "# remove an element by its name\n",
    "my_list.remove(\"Jason\")\n",
    "print(my_list)\n",
    "\n",
    "# remove an element by its index (method 1)\n",
    "my_list.pop(3)\n",
    "print(my_list)\n",
    "\n",
    "# remove an element by its index (method 2)\n",
    "del my_list[1]\n",
    "print(my_list)\n",
    "\n",
    "# clear the list\n",
    "my_list.clear()\n",
    "print(my_list)\n",
    "\n",
    "# delete the list\n",
    "del my_list\n",
    "print(my_list)"
   ]
  },
  {
   "cell_type": "markdown",
   "metadata": {},
   "source": [
    "### Program with a Dictionary"
   ]
  },
  {
   "cell_type": "code",
   "execution_count": 32,
   "metadata": {},
   "outputs": [
    {
     "name": "stdout",
     "output_type": "stream",
     "text": [
      "{'coffee': 3.99, 'sandwich': 5.99, 'burger': 4.99, 'sprite': 1.99, 'waffles': 3.99}\n",
      "coffee : 3.99\n",
      "sandwich : 5.99\n",
      "burger : 4.99\n",
      "sprite : 1.99\n",
      "waffles : 3.99\n",
      "Price of sprite: 1.99\n",
      "dict_keys(['coffee', 'sandwich', 'burger', 'sprite', 'waffles'])\n",
      "dict_values([3.99, 5.99, 4.99, 1.99, 3.99])\n",
      "{'coffee': 3.99, 'sandwich': 5.99, 'burger': 4.99, 'sprite': 1.99, 'waffles': 3.99, 'pizza': 6.99}\n",
      "{'coffee': 10.99, 'sandwich': 5.99, 'burger': 4.99, 'sprite': 1.99, 'waffles': 3.99}\n",
      "{}\n"
     ]
    },
    {
     "ename": "NameError",
     "evalue": "name 'cafe_dict' is not defined",
     "output_type": "error",
     "traceback": [
      "\u001b[0;31m---------------------------------------------------------------------------\u001b[0m",
      "\u001b[0;31mNameError\u001b[0m                                 Traceback (most recent call last)",
      "\u001b[0;32m/tmp/ipykernel_1461/2496941917.py\u001b[0m in \u001b[0;36m<module>\u001b[0;34m\u001b[0m\n\u001b[1;32m     42\u001b[0m \u001b[0;31m# delete the dictionary\u001b[0m\u001b[0;34m\u001b[0m\u001b[0;34m\u001b[0m\u001b[0m\n\u001b[1;32m     43\u001b[0m \u001b[0;32mdel\u001b[0m \u001b[0mcafe_dict\u001b[0m\u001b[0;34m\u001b[0m\u001b[0;34m\u001b[0m\u001b[0m\n\u001b[0;32m---> 44\u001b[0;31m \u001b[0mprint\u001b[0m\u001b[0;34m(\u001b[0m\u001b[0mcafe_dict\u001b[0m\u001b[0;34m)\u001b[0m\u001b[0;34m\u001b[0m\u001b[0;34m\u001b[0m\u001b[0m\n\u001b[0m",
      "\u001b[0;31mNameError\u001b[0m: name 'cafe_dict' is not defined"
     ]
    }
   ],
   "source": [
    "cafe_dict = {\n",
    "    \"coffee\" : 3.99,\n",
    "    \"sandwich\" : 5.99,\n",
    "    \"burger\" : 4.99,\n",
    "    \"sprite\" : 1.99,\n",
    "    \"waffles\" : 3.99\n",
    "}\n",
    "\n",
    "# print out the items in the dictionary (linear)\n",
    "print(cafe_dict)\n",
    "\n",
    "# print out the items on separate lines using a loop & user-defined function\n",
    "def print_dict(dictionary):\n",
    "    for (key, value) in dictionary.items():\n",
    "        print(f\"{key} : {value}\")\n",
    "\n",
    "print_dict(cafe_dict)\n",
    "# get a value by its key\n",
    "print(f\"Price of sprite: {cafe_dict['sprite']}\")\n",
    "\n",
    "# print out all the keys\n",
    "print(cafe_dict.keys())\n",
    "\n",
    "# print out all the values\n",
    "print(cafe_dict.values())\n",
    "\n",
    "# add a key/value pair to the dictionary method 1\n",
    "cafe_dict[\"pizza\"] = 6.99\n",
    "print(cafe_dict)\n",
    "\n",
    "# change a key's value\n",
    "cafe_dict[\"coffee\"] = 10.99\n",
    "\n",
    "# remove a key/value pair\n",
    "cafe_dict.pop(\"pizza\")\n",
    "print(cafe_dict)\n",
    "\n",
    "# clear the dictionary\n",
    "cafe_dict.clear()\n",
    "print(cafe_dict)\n",
    "\n",
    "# delete the dictionary\n",
    "del cafe_dict\n",
    "print(cafe_dict)"
   ]
  }
 ],
 "metadata": {
  "kernelspec": {
   "display_name": "Python 3 (ipykernel)",
   "language": "python",
   "name": "python3"
  },
  "language_info": {
   "codemirror_mode": {
    "name": "ipython",
    "version": 3
   },
   "file_extension": ".py",
   "mimetype": "text/x-python",
   "name": "python",
   "nbconvert_exporter": "python",
   "pygments_lexer": "ipython3",
   "version": "3.10.12"
  }
 },
 "nbformat": 4,
 "nbformat_minor": 2
}
