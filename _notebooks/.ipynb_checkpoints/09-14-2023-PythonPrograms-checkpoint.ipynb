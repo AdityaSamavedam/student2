{
 "cells": [
  {
   "cell_type": "markdown",
   "metadata": {},
   "source": [
    "## Program with Output"
   ]
  },
  {
   "cell_type": "code",
   "execution_count": 2,
   "metadata": {
    "vscode": {
     "languageId": "plaintext"
    }
   },
   "outputs": [
    {
     "name": "stdout",
     "output_type": "stream",
     "text": [
      "This is a print statement with double quotes.\n",
      "This is a print statement with single quotes.\n",
      "These sentences are\n",
      "on separate lines.\n",
      "This print statement\n",
      "prints the output the same way\n",
      "as it was specified.\n"
     ]
    }
   ],
   "source": [
    "print(\"This is a print statement with double quotes.\")\n",
    "\n",
    "print('This is a print statement with single quotes.')\n",
    "\n",
    "print(\"These sentences are\\non separate lines.\")\n",
    "print('''This print statement\n",
    "prints the output the same way\n",
    "as it was specified.''')\n",
    "\n",
    "greeting = \"hello\"\n",
    "print(f\"This is an f-string: {greeting} world!\")"
   ]
  },
  {
   "cell_type": "markdown",
   "metadata": {},
   "source": [
    "## Program with Input"
   ]
  },
  {
   "cell_type": "code",
   "execution_count": 1,
   "metadata": {},
   "outputs": [
    {
     "name": "stdout",
     "output_type": "stream",
     "text": [
      "Hello! Please enter your name: Aditya\n",
      "Hello! Please enter your name: Aditya\n",
      "The name you entered is: Aditya\n",
      "Hello! Please enter your age: 15\n",
      "The age you entered is: 15\n",
      "Hello! Please enter your GPA: 4.0\n",
      "The GPA you entered is: 4.0\n"
     ]
    }
   ],
   "source": [
    "# This is a basic input\n",
    "input(\"Hello! Please enter your name: \")\n",
    "\n",
    "# This is an input stored in a variable, which can later be printed.\n",
    "name = input(\"Hello! Please enter your name: \")\n",
    "print(\"The name you entered is:\",name)\n",
    "\n",
    "# This is an input which takes an integer\n",
    "age = int(input(\"Hello! Please enter your age: \"))\n",
    "print(\"The age you entered is:\",age)\n",
    "\n",
    "# This is an input which takes a float\n",
    "gpa = float(input(\"Hello! Please enter your GPA: \"))\n",
    "print(\"The GPA you entered is:\",gpa)"
   ]
  }
 ],
 "metadata": {
  "kernelspec": {
   "display_name": "Python 3 (ipykernel)",
   "language": "python",
   "name": "python3"
  },
  "language_info": {
   "codemirror_mode": {
    "name": "ipython",
    "version": 3
   },
   "file_extension": ".py",
   "mimetype": "text/x-python",
   "name": "python",
   "nbconvert_exporter": "python",
   "pygments_lexer": "ipython3",
   "version": "3.10.12"
  }
 },
 "nbformat": 4,
 "nbformat_minor": 2
}
