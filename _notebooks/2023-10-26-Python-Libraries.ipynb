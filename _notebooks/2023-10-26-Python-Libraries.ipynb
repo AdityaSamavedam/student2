{
 "cells": [
  {
   "cell_type": "markdown",
   "metadata": {},
   "source": [
    "---\n",
    "layout: post\n",
    "title: Python Libraries\n",
    "description: To teach the class how to use public Python libraries around the internet\n",
    "toc: true\n",
    "comments: true\n",
    "type: hacks\n",
    "courses: { compsci: {week: 10}}\n",
    "---"
   ]
  },
  {
   "cell_type": "markdown",
   "metadata": {},
   "source": [
    "### What is a Library?\n",
    "Essentially a list of pre-written code that you can use to streamline and clean up your program.\n",
    "\n",
    "Libraries can help simplify complex programs\n",
    "\n",
    "APIS are specifications for how the procedures in a library behave, and how they can be used \n",
    "\n",
    "Documentations for an API/library is necessary in understanding the behaviors provided by the API/library and how to use them\n",
    "\n",
    "Libraries that we will go over: Requests, Pillow, Pandas, Numpy, Scikit-Learn, TensorFlow, matplotlib.\n"
   ]
  },
  {
   "cell_type": "markdown",
   "metadata": {},
   "source": [
    "### Required Installations\n",
    "Please run the following commands in your vscode terminal in order to continue the lesson\n",
    "- pip install numpy\n",
    "- pip install matplotlib\n",
    "- pip install scikit-learn\n",
    "- pip install pillow\n",
    "- pip install pandas\n",
    "- pip install tensorflow\n",
    "- pip install requests"
   ]
  },
  {
   "cell_type": "markdown",
   "metadata": {},
   "source": [
    "### Images using requests and pillow libraries\n",
    "'Requests' is focused on handling HTTP requests and web data while 'Pillow' is designed for data manipulation and analysis\n",
    "It's common to see them used together in data-related assignments where data is fetched by HTTP requests using Requests and then processed and analyzed with Pandas.\n",
    "\n",
    "Here's an example:"
   ]
  },
  {
   "cell_type": "code",
   "execution_count": 1,
   "metadata": {},
   "outputs": [
    {
     "name": "stdout",
     "output_type": "stream",
     "text": [
      "Failed to download image. Status code: 404\n"
     ]
    }
   ],
   "source": [
    "import requests\n",
    "from PIL import Image\n",
    "from io import BytesIO\n",
    "\n",
    "# Step 1: Download an image using Requests\n",
    "image_url = \"https://example.com/path/to/your/image.jpg\"  # Replace with the actual URL of the image you want to download\n",
    "response = requests.get(image_url)\n",
    "\n",
    "if response.status_code == 200:\n",
    "    # Step 2: Process the downloaded image using Pillow\n",
    "    image_data = BytesIO(response.content)  # Create an in-memory binary stream from the response content\n",
    "    img = Image.open(image_data)  # Open the image using Pillow\n",
    "\n",
    "    # Perform image processing tasks here, like resizing or applying filters\n",
    "    img = img.resize((x, y))  # Resize the image and replace x,y with desired amounts\n",
    "\n",
    "    # Step 3: Save the processed image using Pillow\n",
    "    img.save(\"processed_image.jpg\")  # Save the processed image to a file\n",
    "\n",
    "    print(\"Image downloaded, processed, and saved.\")\n",
    "else:\n",
    "    print(f\"Failed to download image. Status code: {response.status_code}\")\n"
   ]
  },
  {
   "cell_type": "markdown",
   "metadata": {},
   "source": [
    "In this code, we use the Requests library to download an image from a URL and then if the download is successful the HTTP status code 200 will pop up, and from there we create an in-memory binary stream (BytesIO) from the response content. We then use the Pillow library to open the image, make any necessary changes, and save the processed image to a file.\n",
    "\n",
    "Here's a step by step tutorial on how we wrote this code: \n",
    "1)We started by importing the necessary libraries, which were Requests, Pillow, and io.\n",
    "\n",
    "2)Download the Image\n",
    "\n",
    "3)Use the Requests library to send an HTTP GET request to the URL to download the image.\n",
    "Check the response status code to make sure the download goes through(status code 200).\n",
    "\n",
    "4)If the download is successful, create an in-memory binary stream (BytesIO) from the response content.\n",
    "Process the Image:\n",
    "\n",
    "5)Utilize the Pillow library to open the image from the binary stream.\n",
    "Change photo to desired preference(ie: size)\n",
    "Save the Processed Image:\n",
    "\n",
    "6)Save the processed image to a file using Pillow. Choose a filename and file format for the saved image.\n",
    "\n",
    "\n"
   ]
  },
  {
   "cell_type": "markdown",
   "metadata": {},
   "source": [
    "### Hack 1"
   ]
  },
  {
   "cell_type": "markdown",
   "metadata": {},
   "source": [
    "Write a Python code that accomplishes the following tasks:\n",
    "\n",
    "Downloads an image from a specified URL using the Requests library.\n",
    "Processes the downloaded image (like resizing) using the Pillow library.\n",
    "Save the processed image to a file.\n"
   ]
  },
  {
   "cell_type": "code",
   "execution_count": 2,
   "metadata": {},
   "outputs": [
    {
     "name": "stdout",
     "output_type": "stream",
     "text": [
      "Image downloaded, processed, and saved.\n"
     ]
    }
   ],
   "source": [
    "#Code here\n",
    "import requests\n",
    "from PIL import Image\n",
    "from io import BytesIO\n",
    "\n",
    "# Step 1: Download an image using Requests\n",
    "image_url = \"https://encrypted-tbn0.gstatic.com/images?q=tbn:ANd9GcQ91gIGdm8s6WYLVQKmEv-wpytd8b3HP1OJZpcQH_IgrA&s\"  # Replace with the actual URL of the image you want to download\n",
    "response = requests.get(image_url)\n",
    "\n",
    "if response.status_code == 200:\n",
    "    # Step 2: Process the downloaded image using Pillow\n",
    "    image_data = BytesIO(response.content)  # Create an in-memory binary stream from the response content\n",
    "    img = Image.open(image_data)  # Open the image using Pillow\n",
    "\n",
    "    # Perform image processing tasks here, like resizing or applying filters\n",
    "    img = img.resize((200, 200))  # Resize the image and replace x,y with desired amounts\n",
    "\n",
    "    # Step 3: Save the processed image using Pillow\n",
    "    img.save(\"processed_image.jpg\")  # Save the processed image to a file\n",
    "\n",
    "    print(\"Image downloaded, processed, and saved.\")\n",
    "else:\n",
    "    print(f\"Failed to download image. Status code: {response.status_code}\")"
   ]
  },
  {
   "cell_type": "markdown",
   "metadata": {},
   "source": [
    "### Math Operations With Python Libraries\n",
    "Numpy(Numerical Python) is used for numerical and scientific computing. It provides tools for handling large sets of numbers, such as data tables and arrays. Numpy makes it easier and more efficient to do mathematical tasks. \n",
    "\n",
    "The Matplotlib library lets you create a visual representation of your data (graphs, charts, and etc.)"
   ]
  },
  {
   "cell_type": "markdown",
   "metadata": {},
   "source": [
    "### Example Sine Graph\n",
    "Uses numpy and matplotlib libaries"
   ]
  },
  {
   "cell_type": "code",
   "execution_count": 3,
   "metadata": {},
   "outputs": [
    {
     "data": {
      "image/png": "[encoded data removed]",
      "text/plain": [
       "<Figure size 432x288 with 1 Axes>"
      ]
     },
     "metadata": {
      "needs_background": "light"
     },
     "output_type": "display_data"
    }
   ],
   "source": [
    "import numpy as np\n",
    "import matplotlib.pyplot as plt\n",
    "\n",
    "# Generate sample data with NumPy\n",
    "x = np.linspace(0, 2 * np.pi, 100) \n",
    "# Create an array of values from 0 to 2*pi\n",
    "# 100 is included to have 100 points distributed between 0 and 2π to make graph smoother\n",
    "y = np.sin(x)\n",
    "# Compute the sine of each value\n",
    "\n",
    "# Create a simple line plot using Matplotlib\n",
    "plt.plot(x, y, label='Sine Function', color='blue', linestyle='-')  # Create the plot\n",
    "plt.title('Sine Function')  # Set the title\n",
    "plt.xlabel('x')  # Label for the x-axis\n",
    "plt.ylabel('sin(x)')  # Label for the y-axis\n",
    "plt.grid(True)  # Display a grid\n",
    "plt.legend()  # Show the legend\n",
    "plt.show()  # Display the plot"
   ]
  },
  {
   "cell_type": "markdown",
   "metadata": {},
   "source": [
    "### Hack 2\n",
    "Using the data from the numpy library, create a visual graph using different matplotlib functions."
   ]
  },
  {
   "cell_type": "code",
   "execution_count": 21,
   "metadata": {},
   "outputs": [
    {
     "data": {
      "image/png": "[encoded data removed]",
      "text/plain": [
       "<Figure size 432x288 with 1 Axes>"
      ]
     },
     "metadata": {
      "needs_background": "light"
     },
     "output_type": "display_data"
    }
   ],
   "source": [
    "import numpy as np\n",
    "import matplotlib.pyplot as plt\n",
    "\n",
    "# Generate data for two lines\n",
    "x = np.linspace(0, 10, 50)  # Create an array of values from 0 to 10\n",
    "y1 = 2 * x + 1  # Set of data poits\n",
    "y2 = 60*np.cos(x)\n",
    "y3 = x**2\n",
    "y4 = 8*x\n",
    "# Create and display a plot using Matplotlib\n",
    "\n",
    "# your code here\n",
    "plt.plot(x, y1, label='y = 2x + 1', color='blue', linestyle='-')  # Create the plot\n",
    "plt.plot(x, y2, label='y = cos(x)', color='green', linestyle=':')  # Create the plot\n",
    "plt.plot(x, y3, label='y = x^2', color='orange', linestyle='--')  # Create the plot\n",
    "plt.plot(x, y4, label='y = 8x', color='red', linestyle='-.')  # Create the plot\n",
    "plt.title('4 graphs')  # Set the title\n",
    "plt.xlabel('x')  # Label for the x-axis\n",
    "plt.ylabel('y')  # Label for the y-axis\n",
    "plt.grid(True)  # Display a grid\n",
    "plt.legend()  # Show the legend\n",
    "plt.show()  # Display the plot"
   ]
  },
  {
   "cell_type": "markdown",
   "metadata": {},
   "source": [
    "Tensor Flow is used in deep learning and neural networks, while scikit-learn is used for typical machine learning tasks. When used together, they can tackle machine learning projects. In the code below, Tensor Flow is used for model creation and training. Scikit-learn is used for data-processing and model evaluation."
   ]
  },
  {
   "cell_type": "markdown",
   "metadata": {},
   "source": [
    "## Pip install tensorflow scikit-learn"
   ]
  },
  {
   "cell_type": "code",
   "execution_count": 22,
   "metadata": {
    "scrolled": true
   },
   "outputs": [
    {
     "name": "stderr",
     "output_type": "stream",
     "text": [
      "2023-10-28 08:03:03.962696: I tensorflow/core/util/port.cc:111] oneDNN custom operations are on. You may see slightly different numerical results due to floating-point round-off errors from different computation orders. To turn them off, set the environment variable `TF_ENABLE_ONEDNN_OPTS=0`.\n",
      "2023-10-28 08:03:04.043596: I tensorflow/tsl/cuda/cudart_stub.cc:28] Could not find cuda drivers on your machine, GPU will not be used.\n",
      "2023-10-28 08:03:04.512924: E tensorflow/compiler/xla/stream_executor/cuda/cuda_dnn.cc:9342] Unable to register cuDNN factory: Attempting to register factory for plugin cuDNN when one has already been registered\n",
      "2023-10-28 08:03:04.512973: E tensorflow/compiler/xla/stream_executor/cuda/cuda_fft.cc:609] Unable to register cuFFT factory: Attempting to register factory for plugin cuFFT when one has already been registered\n",
      "2023-10-28 08:03:04.516314: E tensorflow/compiler/xla/stream_executor/cuda/cuda_blas.cc:1518] Unable to register cuBLAS factory: Attempting to register factory for plugin cuBLAS when one has already been registered\n",
      "2023-10-28 08:03:04.837140: I tensorflow/tsl/cuda/cudart_stub.cc:28] Could not find cuda drivers on your machine, GPU will not be used.\n",
      "2023-10-28 08:03:04.841026: I tensorflow/core/platform/cpu_feature_guard.cc:182] This TensorFlow binary is optimized to use available CPU instructions in performance-critical operations.\n",
      "To enable the following instructions: AVX2 AVX512F AVX512_VNNI FMA, in other operations, rebuild TensorFlow with the appropriate compiler flags.\n",
      "2023-10-28 08:03:07.324772: W tensorflow/compiler/tf2tensorrt/utils/py_utils.cc:38] TF-TRT Warning: Could not find TensorRT\n",
      "/usr/lib/python3/dist-packages/scipy/__init__.py:146: UserWarning: A NumPy version >=1.17.3 and <1.25.0 is required for this version of SciPy (detected version 1.26.1\n",
      "  warnings.warn(f\"A NumPy version >={np_minversion} and <{np_maxversion}\"\n"
     ]
    },
    {
     "name": "stdout",
     "output_type": "stream",
     "text": [
      "Epoch 1/100\n",
      "3/3 - 0s - loss: 4.4912 - 488ms/epoch - 163ms/step\n",
      "Epoch 2/100\n",
      "3/3 - 0s - loss: 4.4751 - 12ms/epoch - 4ms/step\n",
      "Epoch 3/100\n",
      "3/3 - 0s - loss: 4.4588 - 12ms/epoch - 4ms/step\n",
      "Epoch 4/100\n",
      "3/3 - 0s - loss: 4.4428 - 12ms/epoch - 4ms/step\n",
      "Epoch 5/100\n",
      "3/3 - 0s - loss: 4.4264 - 14ms/epoch - 5ms/step\n",
      "Epoch 6/100\n",
      "3/3 - 0s - loss: 4.4106 - 11ms/epoch - 4ms/step\n",
      "Epoch 7/100\n",
      "3/3 - 0s - loss: 4.3950 - 14ms/epoch - 5ms/step\n",
      "Epoch 8/100\n",
      "3/3 - 0s - loss: 4.3787 - 17ms/epoch - 6ms/step\n",
      "Epoch 9/100\n",
      "3/3 - 0s - loss: 4.3623 - 16ms/epoch - 5ms/step\n",
      "Epoch 10/100\n",
      "3/3 - 0s - loss: 4.3466 - 16ms/epoch - 5ms/step\n",
      "Epoch 11/100\n",
      "3/3 - 0s - loss: 4.3308 - 13ms/epoch - 4ms/step\n",
      "Epoch 12/100\n",
      "3/3 - 0s - loss: 4.3145 - 13ms/epoch - 4ms/step\n",
      "Epoch 13/100\n",
      "3/3 - 0s - loss: 4.2985 - 12ms/epoch - 4ms/step\n",
      "Epoch 14/100\n",
      "3/3 - 0s - loss: 4.2827 - 12ms/epoch - 4ms/step\n",
      "Epoch 15/100\n",
      "3/3 - 0s - loss: 4.2675 - 20ms/epoch - 7ms/step\n",
      "Epoch 16/100\n",
      "3/3 - 0s - loss: 4.2507 - 17ms/epoch - 6ms/step\n",
      "Epoch 17/100\n",
      "3/3 - 0s - loss: 4.2354 - 12ms/epoch - 4ms/step\n",
      "Epoch 18/100\n",
      "3/3 - 0s - loss: 4.2199 - 12ms/epoch - 4ms/step\n",
      "Epoch 19/100\n",
      "3/3 - 0s - loss: 4.2045 - 12ms/epoch - 4ms/step\n",
      "Epoch 20/100\n",
      "3/3 - 0s - loss: 4.1889 - 14ms/epoch - 5ms/step\n",
      "Epoch 21/100\n",
      "3/3 - 0s - loss: 4.1727 - 14ms/epoch - 5ms/step\n",
      "Epoch 22/100\n",
      "3/3 - 0s - loss: 4.1579 - 13ms/epoch - 4ms/step\n",
      "Epoch 23/100\n",
      "3/3 - 0s - loss: 4.1421 - 14ms/epoch - 5ms/step\n",
      "Epoch 24/100\n",
      "3/3 - 0s - loss: 4.1268 - 11ms/epoch - 4ms/step\n",
      "Epoch 25/100\n",
      "3/3 - 0s - loss: 4.1112 - 11ms/epoch - 4ms/step\n",
      "Epoch 26/100\n",
      "3/3 - 0s - loss: 4.0962 - 13ms/epoch - 4ms/step\n",
      "Epoch 27/100\n",
      "3/3 - 0s - loss: 4.0805 - 11ms/epoch - 4ms/step\n",
      "Epoch 28/100\n",
      "3/3 - 0s - loss: 4.0664 - 14ms/epoch - 5ms/step\n",
      "Epoch 29/100\n",
      "3/3 - 0s - loss: 4.0495 - 12ms/epoch - 4ms/step\n",
      "Epoch 30/100\n",
      "3/3 - 0s - loss: 4.0350 - 14ms/epoch - 5ms/step\n",
      "Epoch 31/100\n",
      "3/3 - 0s - loss: 4.0198 - 13ms/epoch - 4ms/step\n",
      "Epoch 32/100\n",
      "3/3 - 0s - loss: 4.0044 - 13ms/epoch - 4ms/step\n",
      "Epoch 33/100\n",
      "3/3 - 0s - loss: 3.9898 - 12ms/epoch - 4ms/step\n",
      "Epoch 34/100\n",
      "3/3 - 0s - loss: 3.9749 - 12ms/epoch - 4ms/step\n",
      "Epoch 35/100\n",
      "3/3 - 0s - loss: 3.9596 - 14ms/epoch - 5ms/step\n",
      "Epoch 36/100\n",
      "3/3 - 0s - loss: 3.9458 - 13ms/epoch - 4ms/step\n",
      "Epoch 37/100\n",
      "3/3 - 0s - loss: 3.9303 - 14ms/epoch - 5ms/step\n",
      "Epoch 38/100\n",
      "3/3 - 0s - loss: 3.9163 - 12ms/epoch - 4ms/step\n",
      "Epoch 39/100\n",
      "3/3 - 0s - loss: 3.9020 - 13ms/epoch - 4ms/step\n",
      "Epoch 40/100\n",
      "3/3 - 0s - loss: 3.8876 - 14ms/epoch - 5ms/step\n",
      "Epoch 41/100\n",
      "3/3 - 0s - loss: 3.8730 - 15ms/epoch - 5ms/step\n",
      "Epoch 42/100\n",
      "3/3 - 0s - loss: 3.8586 - 11ms/epoch - 4ms/step\n",
      "Epoch 43/100\n",
      "3/3 - 0s - loss: 3.8450 - 14ms/epoch - 5ms/step\n",
      "Epoch 44/100\n",
      "3/3 - 0s - loss: 3.8305 - 11ms/epoch - 4ms/step\n",
      "Epoch 45/100\n",
      "3/3 - 0s - loss: 3.8162 - 13ms/epoch - 4ms/step\n",
      "Epoch 46/100\n",
      "3/3 - 0s - loss: 3.8021 - 13ms/epoch - 4ms/step\n",
      "Epoch 47/100\n",
      "3/3 - 0s - loss: 3.7881 - 13ms/epoch - 4ms/step\n",
      "Epoch 48/100\n",
      "3/3 - 0s - loss: 3.7733 - 8ms/epoch - 3ms/step\n",
      "Epoch 49/100\n",
      "3/3 - 0s - loss: 3.7600 - 12ms/epoch - 4ms/step\n",
      "Epoch 50/100\n",
      "3/3 - 0s - loss: 3.7457 - 15ms/epoch - 5ms/step\n",
      "Epoch 51/100\n",
      "3/3 - 0s - loss: 3.7318 - 14ms/epoch - 5ms/step\n",
      "Epoch 52/100\n",
      "3/3 - 0s - loss: 3.7182 - 15ms/epoch - 5ms/step\n",
      "Epoch 53/100\n",
      "3/3 - 0s - loss: 3.7042 - 15ms/epoch - 5ms/step\n",
      "Epoch 54/100\n",
      "3/3 - 0s - loss: 3.6899 - 14ms/epoch - 5ms/step\n",
      "Epoch 55/100\n",
      "3/3 - 0s - loss: 3.6764 - 15ms/epoch - 5ms/step\n",
      "Epoch 56/100\n",
      "3/3 - 0s - loss: 3.6626 - 13ms/epoch - 4ms/step\n",
      "Epoch 57/100\n",
      "3/3 - 0s - loss: 3.6477 - 18ms/epoch - 6ms/step\n",
      "Epoch 58/100\n",
      "3/3 - 0s - loss: 3.6340 - 12ms/epoch - 4ms/step\n",
      "Epoch 59/100\n",
      "3/3 - 0s - loss: 3.6207 - 10ms/epoch - 3ms/step\n",
      "Epoch 60/100\n",
      "3/3 - 0s - loss: 3.6071 - 8ms/epoch - 3ms/step\n",
      "Epoch 61/100\n",
      "3/3 - 0s - loss: 3.5931 - 13ms/epoch - 4ms/step\n",
      "Epoch 62/100\n",
      "3/3 - 0s - loss: 3.5789 - 12ms/epoch - 4ms/step\n",
      "Epoch 63/100\n",
      "3/3 - 0s - loss: 3.5655 - 16ms/epoch - 5ms/step\n",
      "Epoch 64/100\n",
      "3/3 - 0s - loss: 3.5521 - 11ms/epoch - 4ms/step\n",
      "Epoch 65/100\n",
      "3/3 - 0s - loss: 3.5386 - 9ms/epoch - 3ms/step\n",
      "Epoch 66/100\n",
      "3/3 - 0s - loss: 3.5250 - 13ms/epoch - 4ms/step\n",
      "Epoch 67/100\n",
      "3/3 - 0s - loss: 3.5113 - 12ms/epoch - 4ms/step\n",
      "Epoch 68/100\n",
      "3/3 - 0s - loss: 3.4988 - 14ms/epoch - 5ms/step\n",
      "Epoch 69/100\n",
      "3/3 - 0s - loss: 3.4851 - 13ms/epoch - 4ms/step\n",
      "Epoch 70/100\n",
      "3/3 - 0s - loss: 3.4716 - 11ms/epoch - 4ms/step\n",
      "Epoch 71/100\n",
      "3/3 - 0s - loss: 3.4579 - 9ms/epoch - 3ms/step\n",
      "Epoch 72/100\n",
      "3/3 - 0s - loss: 3.4458 - 10ms/epoch - 3ms/step\n",
      "Epoch 73/100\n",
      "3/3 - 0s - loss: 3.4324 - 13ms/epoch - 4ms/step\n",
      "Epoch 74/100\n",
      "3/3 - 0s - loss: 3.4191 - 13ms/epoch - 4ms/step\n",
      "Epoch 75/100\n",
      "3/3 - 0s - loss: 3.4065 - 11ms/epoch - 4ms/step\n",
      "Epoch 76/100\n",
      "3/3 - 0s - loss: 3.3934 - 8ms/epoch - 3ms/step\n",
      "Epoch 77/100\n",
      "3/3 - 0s - loss: 3.3807 - 12ms/epoch - 4ms/step\n",
      "Epoch 78/100\n",
      "3/3 - 0s - loss: 3.3679 - 13ms/epoch - 4ms/step\n",
      "Epoch 79/100\n",
      "3/3 - 0s - loss: 3.3553 - 13ms/epoch - 4ms/step\n",
      "Epoch 80/100\n",
      "3/3 - 0s - loss: 3.3424 - 12ms/epoch - 4ms/step\n",
      "Epoch 81/100\n",
      "3/3 - 0s - loss: 3.3300 - 10ms/epoch - 3ms/step\n",
      "Epoch 82/100\n",
      "3/3 - 0s - loss: 3.3169 - 10ms/epoch - 3ms/step\n",
      "Epoch 83/100\n",
      "3/3 - 0s - loss: 3.3048 - 11ms/epoch - 4ms/step\n",
      "Epoch 84/100\n",
      "3/3 - 0s - loss: 3.2922 - 10ms/epoch - 3ms/step\n",
      "Epoch 85/100\n",
      "3/3 - 0s - loss: 3.2795 - 12ms/epoch - 4ms/step\n",
      "Epoch 86/100\n",
      "3/3 - 0s - loss: 3.2672 - 8ms/epoch - 3ms/step\n",
      "Epoch 87/100\n",
      "3/3 - 0s - loss: 3.2548 - 13ms/epoch - 4ms/step\n",
      "Epoch 88/100\n",
      "3/3 - 0s - loss: 3.2421 - 14ms/epoch - 5ms/step\n",
      "Epoch 89/100\n",
      "3/3 - 0s - loss: 3.2300 - 14ms/epoch - 5ms/step\n",
      "Epoch 90/100\n",
      "3/3 - 0s - loss: 3.2174 - 13ms/epoch - 4ms/step\n",
      "Epoch 91/100\n",
      "3/3 - 0s - loss: 3.2051 - 11ms/epoch - 4ms/step\n",
      "Epoch 92/100\n",
      "3/3 - 0s - loss: 3.1931 - 8ms/epoch - 3ms/step\n",
      "Epoch 93/100\n",
      "3/3 - 0s - loss: 3.1811 - 15ms/epoch - 5ms/step\n",
      "Epoch 94/100\n",
      "3/3 - 0s - loss: 3.1689 - 15ms/epoch - 5ms/step\n",
      "Epoch 95/100\n",
      "3/3 - 0s - loss: 3.1564 - 14ms/epoch - 5ms/step\n",
      "Epoch 96/100\n",
      "3/3 - 0s - loss: 3.1453 - 13ms/epoch - 4ms/step\n",
      "Epoch 97/100\n",
      "3/3 - 0s - loss: 3.1330 - 12ms/epoch - 4ms/step\n",
      "Epoch 98/100\n",
      "3/3 - 0s - loss: 3.1215 - 9ms/epoch - 3ms/step\n",
      "Epoch 99/100\n",
      "3/3 - 0s - loss: 3.1095 - 12ms/epoch - 4ms/step\n",
      "Epoch 100/100\n",
      "3/3 - 0s - loss: 3.0975 - 13ms/epoch - 4ms/step\n",
      "1/1 [==============================] - 0s 95ms/step\n",
      "Mean Squared Error: 2.4824\n"
     ]
    }
   ],
   "source": [
    "import numpy as np\n",
    "import tensorflow as tf\n",
    "from sklearn.model_selection import train_test_split\n",
    "from sklearn.metrics import mean_squared_error\n",
    "from sklearn.preprocessing import StandardScaler\n",
    "from tensorflow import keras\n",
    "from tensorflow.keras import layers\n",
    "# Generate synthetic data\n",
    "np.random.seed(0)\n",
    "X = np.random.rand(100, 1)  # Feature\n",
    "y = 2 * X + 1 + 0.1 * np.random.randn(100, 1)  # Target variable with noise\n",
    "# Split the data into training and testing sets\n",
    "X_train, X_test, y_train, y_test = train_test_split(X, y, test_size=0.2, random_state=42)\n",
    "# Standardize the features\n",
    "scaler = StandardScaler()\n",
    "X_train = scaler.fit_transform(X_train)\n",
    "X_test = scaler.transform(X_test)\n",
    "# Create a simple linear regression model using TensorFlow and Keras\n",
    "model = keras.Sequential([\n",
    "    layers.Input(shape=(1,)),\n",
    "    layers.Dense(1)\n",
    "])\n",
    "# Compile the model\n",
    "model.compile(optimizer='adam', loss='mean_squared_error')\n",
    "# Train the model\n",
    "model.fit(X_train, y_train, epochs=100, batch_size=32, verbose=2)\n",
    "# Make predictions on the test set\n",
    "y_pred = model.predict(X_test)\n",
    "# Calculate the Mean Squared Error on the test set\n",
    "mse = mean_squared_error(y_test, y_pred)\n",
    "print(f\"Mean Squared Error: {mse:.4f}\")"
   ]
  },
  {
   "cell_type": "markdown",
   "metadata": {},
   "source": [
    "A decrease in loss and time metrics (ms/epoch and ms/step) shows the efficiency increases as the training epochs increases"
   ]
  },
  {
   "cell_type": "markdown",
   "metadata": {},
   "source": [
    "## Hack\n",
    "fill in the missing code to match the custom data set"
   ]
  },
  {
   "cell_type": "code",
   "execution_count": 66,
   "metadata": {},
   "outputs": [
    {
     "name": "stdout",
     "output_type": "stream",
     "text": [
      "1/1 [==============================] - 0s 33ms/step\n",
      "Mean Squared Error on the test set: 158474266395.44\n"
     ]
    }
   ],
   "source": [
    "import numpy as np\n",
    "import tensorflow as tf\n",
    "from sklearn.model_selection import train_test_split\n",
    "from sklearn.metrics import mean_squared_error\n",
    "from sklearn.preprocessing import StandardScaler\n",
    "from tensorflow import keras\n",
    "from tensorflow.keras import layers\n",
    "# Generate a custom dataset (replace this with your data loading code)\n",
    "# Synthetic data: House prices based on number of bedrooms and square footage\n",
    "np.random.seed(0)\n",
    "num_samples = 100\n",
    "bedrooms = np.random.randint(1, 5, num_samples)\n",
    "square_footage = np.random.randint(1000, 2500, num_samples)\n",
    "house_prices = 100000 + 50000 * bedrooms + 100 * square_footage + 10000 * np.random.randn(num_samples)\n",
    "# Combine features (bedrooms and square footage) into one array\n",
    "X = np.column_stack((bedrooms, square_footage))\n",
    "y = house_prices.reshape(-1, 1)\n",
    "# Split the data into training and testing sets\n",
    "X_train, X_test, y_train, y_test = train_test_split(X, y, test_size=0.2, random_state=42)\n",
    "# Standardize the features\n",
    "scaler = StandardScaler()\n",
    "X_train = scaler.fit_transform(X_train)\n",
    "X_test = scaler.transform(X_test)\n",
    "# Create a regression model using TensorFlow and Keras\n",
    "model = keras.Sequential([\n",
    "    layers.Input(shape=(2,)), # Input shape adjusted to the number of features\n",
    "    layers.Dense(64, activation='relu'),\n",
    "    layers.Dense(1) # Output layer for regression\n",
    "])\n",
    "\n",
    "# Compile the model for regression\n",
    "model.compile(optimizer='adam', loss='mean_squared_error') # Using MSE as the loss function\n",
    "# Train the model\n",
    "model.fit(X_train, y_train, epochs=100, batch_size=32, verbose=0)\n",
    "# Make predictions on the test set\n",
    "y_pred = model.predict(X_test)\n",
    "# Calculate the Mean Squared Error on the test set\n",
    "mse = mean_squared_error(y_test, y_pred)\n",
    "print(f\"Mean Squared Error on the test set: {mse:.2f}\")"
   ]
  },
  {
   "cell_type": "markdown",
   "metadata": {},
   "source": [
    "## HOMEWORK 1\n",
    "\n",
    "Create a GPA calculator using Pandas and Matplot libraries and make:\n",
    "1) A dataframe\n",
    "2) A specified dictionary\n",
    "3) and a print function that outputs the final GPA\n",
    "\n",
    "Extra points can be earned with creativity."
   ]
  },
  {
   "cell_type": "code",
   "execution_count": 39,
   "metadata": {},
   "outputs": [
    {
     "name": "stdout",
     "output_type": "stream",
     "text": [
      "Grades:\n",
      "           Subject  Credits Grade Class Type  Grade Point\n",
      "0        3D Anim 2        3     A     Normal          4.0\n",
      "1         AP CSP 1        4     B         AP          4.0\n",
      "2     AP Calc AB 1        3     A         AP          5.0\n",
      "3        AP Chem 3        3     C         AP          3.0\n",
      "4  World History 1        2     B     Normal          3.0\n",
      "\n",
      "Final GPA: 3.867\n"
     ]
    },
    {
     "data": {
      "image/png": "[encoded data removed]",
      "text/plain": [
       "<Figure size 576x360 with 1 Axes>"
      ]
     },
     "metadata": {
      "needs_background": "light"
     },
     "output_type": "display_data"
    }
   ],
   "source": [
    "import pandas as pd\n",
    "import matplotlib.pyplot as plt\n",
    "\n",
    "# Create a DataFrame\n",
    "data = {'Subject': ['3D Anim 2', 'AP CSP 1', 'AP Calc AB 1', 'AP Chem 3', 'World History 1'],\n",
    "        'Credits': [3, 4, 3, 3, 2],\n",
    "        'Grade': ['A', 'B', 'A', 'C', 'B']}\n",
    "df = pd.DataFrame(data)\n",
    "\n",
    "# Define grade points\n",
    "# I added creativity by enabling a 5.0 scale for AP Classes and a 4.0 scale for non-AP Classes\n",
    "grade_points_ap = {'A': 5.0, 'A-': 4.7, 'B+': 4.3, 'B': 4.0, 'B-': 3.7, 'C+': 3.3, 'C': 3.0, 'C-': 2.7, 'D+': 2.3, 'D': 2.0, 'F': 1.0}\n",
    "grade_points_normal = {'A': 4.0, 'A-': 3.7, 'B+': 3.3, 'B': 3.0, 'B-': 2.7, 'C+': 2.3, 'C': 2.0, 'C-': 1.7, 'D+': 1.3, 'D': 1.0, 'F': 0.0}\n",
    "\n",
    "# Add a Grade Point column to the DataFrame based on class type\n",
    "df['Class Type'] = ['AP' if 'AP' in subject else 'Normal' for subject in df['Subject']]\n",
    "df['Grade Point'] = df.apply(lambda row: grade_points_ap[row['Grade']] if row['Class Type'] == 'AP' else grade_points_normal[row['Grade']], axis=1)\n",
    "\n",
    "# Calculate Total Grade Points and Total Credits\n",
    "total_grade_points = (df['Grade Point'] * df['Credits']).sum()\n",
    "total_credits = df['Credits'].sum()\n",
    "\n",
    "# Calculate GPA\n",
    "gpa = total_grade_points / total_credits\n",
    "\n",
    "# Print the DataFrame\n",
    "print(f\"Grades:\\n{df}\")\n",
    "\n",
    "\n",
    "# Print the final GPA\n",
    "print(f\"\\nFinal GPA: {gpa:.3f}\")\n",
    "\n",
    "# Create a bar chart of grades\n",
    "plt.figure(figsize=(8, 5))\n",
    "plt.bar(df['Subject'], df['Grade Point'], color='skyblue')\n",
    "plt.xlabel('Subject')\n",
    "plt.ylabel('Grade Point')\n",
    "plt.title('Grade Points')\n",
    "plt.show()"
   ]
  },
  {
   "cell_type": "markdown",
   "metadata": {},
   "source": [
    "## HOMEWORK 2\n",
    "\n",
    "Import and use the \"random\" library to generate 50 different points from the range 0-100, then display the randomized data using a scatter plot.\n",
    "\n",
    "Extra points can be earned with creativity."
   ]
  },
  {
   "cell_type": "code",
   "execution_count": 65,
   "metadata": {},
   "outputs": [
    {
     "data": {
      "image/png": "[encoded data removed]",
      "text/plain": [
       "<Figure size 432x288 with 1 Axes>"
      ]
     },
     "metadata": {
      "needs_background": "light"
     },
     "output_type": "display_data"
    }
   ],
   "source": [
    "import random\n",
    "import matplotlib.pyplot as plt\n",
    "\n",
    "# create empty lists for x and y coordinates\n",
    "x_points_list = []\n",
    "y_points_list = []\n",
    "\n",
    "# for loop to add 50 random numbers to x coordinates\n",
    "for _ in range(50):\n",
    "    x_random_num = random.randint(0,100)\n",
    "    x_points_list.append(x_random_num)\n",
    "\n",
    "# for loop to add 50 random numbers to y coordinates\n",
    "for _ in range(50):\n",
    "    y_random_num = random.randint(0,100)\n",
    "    y_points_list.append(y_random_num)\n",
    "\n",
    "# create the scatterplot\n",
    "colors = [f'#{random.randint(0, 0xFFFFFF):06x}' for _ in range(len(x_points_list))]\n",
    "plt.scatter(x_points_list, y_points_list, c=colors, marker='x', label='Random Data')\n",
    "\n",
    "plt.xlabel('x')\n",
    "plt.ylabel('y')\n",
    "plt.title('Random Data Scatter Plot')\n",
    "\n",
    "plt.grid(True)\n",
    "plt.show()"
   ]
  }
 ],
 "metadata": {
  "kernelspec": {
   "display_name": "Python 3 (ipykernel)",
   "language": "python",
   "name": "python3"
  },
  "language_info": {
   "codemirror_mode": {
    "name": "ipython",
    "version": 3
   },
   "file_extension": ".py",
   "mimetype": "text/x-python",
   "name": "python",
   "nbconvert_exporter": "python",
   "pygments_lexer": "ipython3",
   "version": "3.10.12"
  }
 },
 "nbformat": 4,
 "nbformat_minor": 2
}
