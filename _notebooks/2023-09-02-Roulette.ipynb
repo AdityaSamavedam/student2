{
 "cells": [
  {
   "cell_type": "markdown",
   "metadata": {},
   "source": [
    "---\n",
    "toc: true\n",
    "comments: true\n",
    "layout: post\n",
    "title: Roulette Game\n",
    "description: Roulette Game made in Python\n",
    "courses: { compsci: {week: 3} }\n",
    "type: tangibles\n",
    "---"
   ]
  }
 ],
 "metadata": {
  "language_info": {
   "name": "python"
  },
  "orig_nbformat": 4
 },
 "nbformat": 4,
 "nbformat_minor": 2
}
